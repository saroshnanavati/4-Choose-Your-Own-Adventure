{
 "cells": [
  {
   "cell_type": "code",
   "execution_count": null,
   "id": "6c175593",
   "metadata": {
    "scrolled": true
   },
   "outputs": [],
   "source": [
    "name = input('Type your name: ')\n",
    "print('Welcome ',name,' to this adventure!')\n",
    "\n",
    "answer = input('You are on a dirt road.  It comes to an end, and you must choose which way to go.  Do you go left or right? ').lower()\n",
    "\n",
    "if answer == 'left':\n",
    "    answer = input('You come to a river.  You can swim across or walk around it. To walk around type \"walk\", and to swim across, type \"swim\"').lower()\n",
    "\n",
    "    if answer == 'swim':\n",
    "        print('You swam across and were eaten by an alligator.')\n",
    "    elif answer == 'walk':\n",
    "        print('You walked for many kilometres, ran out of water, and lost the game.')\n",
    "    else:\n",
    "        print('Not a valid answer.  You lose.')\n",
    "        \n",
    "elif answer == 'right':\n",
    "\n",
    "    answer = input('You meet a stranger wearing a baseball uniform.  You can ask him directions or give him a hug. To ask directions type \"ask\", and to hug him, type \"hug\"').lower()\n",
    "\n",
    "    if answer == 'hug':\n",
    "        print('You are a nice person.  You win the game.')\n",
    "    elif answer == 'ask':\n",
    "        print('He speaks no English, gets very upset and puts you in jail.  You lose the game.')\n",
    "    else:\n",
    "        print('Not a valid answer.  You lose.')\n",
    "    \n",
    "else:\n",
    "    print('Not a valid answer.  You lose.')\n",
    "\n",
    "print('Thank you for playing.  Good day.')"
   ]
  },
  {
   "cell_type": "code",
   "execution_count": null,
   "id": "378c65eb",
   "metadata": {},
   "outputs": [],
   "source": []
  }
 ],
 "metadata": {
  "kernelspec": {
   "display_name": "Python 3 (ipykernel)",
   "language": "python",
   "name": "python3"
  },
  "language_info": {
   "codemirror_mode": {
    "name": "ipython",
    "version": 3
   },
   "file_extension": ".py",
   "mimetype": "text/x-python",
   "name": "python",
   "nbconvert_exporter": "python",
   "pygments_lexer": "ipython3",
   "version": "3.9.7"
  }
 },
 "nbformat": 4,
 "nbformat_minor": 5
}
